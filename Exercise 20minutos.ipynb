{
 "cells": [
  {
   "cell_type": "markdown",
   "metadata": {},
   "source": [
    "# Ejercicio 1 - Web scraping\n",
    "Web scraping en la web de 20minutos. Recordad instalar las librerías necesarias.\n",
    "\n",
    "La plantilla se corresponde con los ejemplos vistos en clase esta semana y que están disponible en las transparencias. Además, los comentarios en el código os dan pistas sobre lo que se hace en cada momento.\n",
    "\n",
    "Este código no es universal. Podéis realizar cualquier mejora o cambio de código para obtener otro resultado. En ese caso debéis comentar cuál sería vuestro objetivo.\n",
    "\n",
    "Por favor, tened siempre en cuenta las condiciones legales de la página web que queráis usar.\n",
    "\n",
    "Podéis consultarme cualquier duda o enviarme vuestras soluciones a mi correo electrónico gmunoz4@us.es."
   ]
  },
  {
   "cell_type": "markdown",
   "metadata": {},
   "source": [
    "Rellenar los huecos para:\n",
    "\n",
    "1) Obtener la información deseada de la página\n",
    "\n",
    "2) Crear un archivo csv a partir de los datos obtenidos"
   ]
  },
  {
   "cell_type": "code",
   "execution_count": 31,
   "metadata": {
    "collapsed": true
   },
   "outputs": [],
   "source": [
    "# -*- coding: utf-8 -*-\n",
    "# Look at the terms and the robots.txt file\n",
    "# http://www.20minutos.es/robots.txt\n",
    "from bs4 import BeautifulSoup  # BeautifulSoup package\n",
    "import unicodecsv  # unicodecsv package\n",
    "# If the package is not installed, install it using pip:\n",
    "# !pip install unicodecsv\n",
    "\n",
    "import datetime\n",
    "import requests  # requests package"
   ]
  },
  {
   "cell_type": "code",
   "execution_count": 32,
   "metadata": {
    "collapsed": false
   },
   "outputs": [
    {
     "name": "stderr",
     "output_type": "stream",
     "text": [
      "C:\\Anaconda3\\lib\\site-packages\\bs4\\__init__.py:181: UserWarning: No parser was explicitly specified, so I'm using the best available HTML parser for this system (\"lxml\"). This usually isn't a problem, but if you run this code on another system, or in a different virtual environment, it may use a different parser and behave differently.\n",
      "\n",
      "The code that caused this warning is on line 184 of the file C:\\Anaconda3\\lib\\runpy.py. To get rid of this warning, change code that looks like this:\n",
      "\n",
      " BeautifulSoup([your markup])\n",
      "\n",
      "to this:\n",
      "\n",
      " BeautifulSoup([your markup], \"lxml\")\n",
      "\n",
      "  markup_type=markup_type))\n"
     ]
    }
   ],
   "source": [
    "url = \"http://www.20minutos.es\"\n",
    "# BeautifulSoup object\n",
    "soup = BeautifulSoup(requests.get(url).text)"
   ]
  },
  {
   "cell_type": "code",
   "execution_count": 33,
   "metadata": {
    "collapsed": false
   },
   "outputs": [
    {
     "name": "stdout",
     "output_type": "stream",
     "text": [
      "[<a class=\"photo\" href=\"http://www.20minutos.es/noticia/2921087/0/podemos-crece-division-interna-campana-contra-inigo-errejon/\" title=\"Crece la división interna en Podemos tras la campaña de los pablistas contra Errejón\"><img alt=\"Íñigo Errejón e Irene Montero\" height=\"304\" src=\"http://cdn.20m.es/img2/recortes/2016/05/13/281790-406-304.jpg?v=20161226163426\" width=\"406\"/>\n",
      "<div class=\"photo-bar\">\n",
      "<span class=\"activity-button-little\" style=\"opacity:0,475;\" title=\"71% de actividad social\"></span>\n",
      "</div></a>, <a class=\"photo\" href=\"http://www.20minutos.es/deportes/noticia/avion-chapecoense-poco-combustible-exceso-peso-2921157/0/\" title=\"El avión del Chapecoense tenía poco combustible y exceso de peso\"><img alt=\"Avión Chapecoense\" height=\"180\" src=\"http://cdn.20m.es/img2/recortes/2016/12/09/387718-240-180.jpg?v=20161213084136\" width=\"240\"/>\n",
      "<div class=\"photo-bar\">\n",
      "</div></a>, <a class=\"photo\" href=\"http://www.20minutos.es/noticia/2920421/0/correos-lanzara-convocatoria-2200-plazas-empleo-ugt-sepi/\" title=\"Correos lanzará en breve una convocatoria de 2.200 plazas\"><img alt=\"Correos\" height=\"118\" src=\"http://cdn.20m.es/img2/recortes/2013/02/22/108529-157-118.jpg\" width=\"157\"/>\n",
      "<div class=\"photo-bar\">\n",
      "<span class=\"activity-button-little\" style=\"opacity:0,7;\" title=\"80% de actividad social\"></span>\n",
      "</div></a>, <a class=\"title\" href=\"http://blogs.20minutos.es/que-fue-de-todos-los-demas/2016/12/26/andrew-ridgeley-cantante-wham-george-michael/\" title=\"¿Qué fue de Andrew Ridgeley, el compañero de Michael en Wham! ?\">¿Qué fue de Andrew Ridgeley, el compañero de Michael en Wham! ?</a>, <a class=\"title\" href=\"http://blogs.20minutos.es/1-de-cada-10/2016/12/26/ahora-que-george-michael-ha-muerto-alguien-pedira-perdon-por-aquello/\" title=\"Ahora que ha muerto, ¿alguien le pedirá perdón por su detención?\">Ahora que ha muerto, ¿alguien le pedirá perdón por su detención?</a>, <a class=\"title\" href=\"http://www.20minutos.es/noticia/2920850/0/muere-george-michael/\" style=\"font-size: 18px;\" title=\"Muere George Michael a los 53 años por un ataque cardíaco\">Muere George Michael a los 53 años por un ataque cardíaco</a>, <a class=\"photo\" href=\"http://www.20minutos.es/noticia/2921088/0/michael-fassbender-papel-star-wars/\" title=\"Fassbender tuvo una conversación para estar en 'Star Wars: Episodio VII'\"><img alt=\"Michael Fassbender\" height=\"180\" src=\"http://cdn.20m.es/img2/recortes/2012/02/21/49484-240-180.jpg\" width=\"240\"/>\n",
      "<div class=\"photo-bar\">\n",
      "</div></a>, <a class=\"photo _304x226\" href=\"http://www.20minutos.es/noticia/2920999/0/gobierno-estudia-obligar-empresas-informar-salarios-que-pagan-hombres-mujeres/\" title=\"El Gobierno estudia obligar a las empresas a informar de los salarios de hombres y mujeres\"><img alt=\"Mujer trabajadora\" height=\"240\" src=\"http://cdn.20m.es/img2/recortes/2016/03/08/264332-323-242.jpg\" width=\"323\"/>\n",
      "<div class=\"photo-bar\">\n",
      "</div></a>, <a class=\"photo collage\" href=\"http://www.20minutos.es/deportes/noticia/malaga-sigue-sin-aclarar-juande-ramos-entrenador-2921031/0/\" title=\"El Málaga sigue sin aclarar si Juande sigue siendo su entrenador\"><img alt=\"Juande Ramos (Málaga)\" height=\"118\" src=\"http://cdn.20m.es/img2/recortes/2016/11/18/377316-157-118.jpg?v=20161222192316\" width=\"157\"/>\n",
      "<div class=\"photo-bar\">\n",
      "</div></a>, <a class=\"photo collage\" href=\"http://www.20minutos.es/videos/gente/eflsEY69-kiko-rivera-se-reune-por-navidad-con-francisco-y-cayetano/\" title=\"Kiko Rivera se reúne por Navidad con Francisco y Cayetano\"><img alt=\"Kiko Rivera\" height=\"118\" src=\"http://cdn.20m.es/img2/recortes/2016/12/26/396339-157-118.jpg?v=20161226141625\" width=\"157\"/>\n",
      "<div class=\"photo-bar\">\n",
      "<span class=\"action-label large\" title=\"Ver vídeo\">\n",
      "<span class=\"icon-wrapper \"><span class=\"icon video\"></span></span>\n",
      "</span>\n",
      "</div></a>, <a class=\"photo\" href=\"http://www.20minutos.es/noticia/2919378/0/anselm-kiefer-walhalla-ideales-germanicos/\" title=\"Anselm Kiefer sigue lacerando los ideales germánicos\"><img alt=\"Anselm Kiefer - Instalación\" height=\"242\" src=\"http://cdn.20m.es/img2/recortes/2016/12/22/395271-323-242.jpg\" width=\"323\"/>\n",
      "<div class=\"photo-bar\">\n",
      "</div></a>, <a class=\"photo\" href=\"http://www.gonzoo.com/actualidad/story/un-leon-marino-de-200-kg-anda-suelto-por-tasmania-4815/\" target=\"_blank\" title=\"Un león marino de 200 kg anda suelto por Tasmania\"><img alt=\"Un león marino anda suelto por Tasmania\" height=\"118\" src=\"http://cdn.20m.es/img2/recortes/2016/12/26/396264-157-118.jpg\" width=\"157\"/>\n",
      "<div class=\"photo-bar\">\n",
      "<span class=\"action-label large\" title=\"Ver gonzoo\">\n",
      "<span class=\"icon-wrapper \"><span class=\"icon gonzoo\"></span></span>\n",
      "</span>\n",
      "</div></a>, <a class=\"title\" href=\"http://www.20minutos.es/noticia/2921147/0/dos-personas-mueren-accidente-trafico-monterrei-ourense-hija-diputado-gallego-raul-fernandez/\" style=\"font-size: 33px;\" title=\"Dos jóvenes mueren en un accidente de tráfico en Ourense\">Dos jóvenes mueren en un accidente de tráfico en Ourense</a>, <a class=\"photo\" href=\"http://es.vandalsports.com/articulos/1518/nvidia-revival-kit-el-paquete-de-nvidia-para-resucitar-nuestro-viejo-ordenador\" target=\"_blank\" title=\"NVidia lanza un kit para resucitar ordenadores viejos\"><img alt=\"Nvidia\" height=\"180\" src=\"http://cdn.20m.es/img2/recortes/2016/12/24/396004-240-180.jpg\" width=\"240\"/>\n",
      "<div class=\"photo-bar\">\n",
      "</div></a>, <a class=\"photo\" href=\"http://www.20minutos.es/noticia/2921044/0/hallan-fuselaje-avion-militar-ruso-siniestrado-mar-negro/\" title=\"Hallan el fuselaje del avión militar ruso siniestrado en el mar Negro\"><img alt=\"Labores de rescate del avión ruso\" height=\"304\" src=\"http://cdn.20m.es/img2/recortes/2016/12/26/396314-406-304.jpg\" width=\"406\"/>\n",
      "<div class=\"photo-bar\">\n",
      "</div></a>, <a class=\"photo\" href=\"http://www.20minutos.es/noticia/2920938/0/juncker-redes-sociales-actuar-contundetemente-contra-fakes/\" title=\"Juncker insta a Facebook y a las redes sociales a actuar con contundencia ante las falsas noticias\"><img alt=\"Juncker, en el Parlamento Europeo\" height=\"180\" src=\"http://cdn.20m.es/img2/recortes/2016/07/05/310524-240-180.jpg\" width=\"240\"/>\n",
      "<div class=\"photo-bar\">\n",
      "</div></a>, <a class=\"photo\" href=\"http://www.20minutos.es/noticia/2921073/0/turismo-lujo-espana-aumento/\" title=\"El turismo de lujo en España: tener el Prado o la Sagrada Familia en exclusiva\"><img alt=\"Museo del Prado \" height=\"180\" src=\"http://cdn.20m.es/img2/recortes/2016/09/27/348470-240-180.jpg?v=20160927140944\" width=\"240\"/>\n",
      "<div class=\"photo-bar\">\n",
      "</div></a>, <a class=\"photo nomarginbottom\" href=\"http://www.20minutos.es/noticia/2920860/0/madre-carrie-fisher-debbie-reinolds-estable/\" title='Mark Hamill y Harrison Ford a Carrie Fisher, tras su infarto: \"Que la fuerza te acompañe\"'><img alt=\"Mark Hamill y Carrie Fisher\" height=\"242\" src=\"http://cdn.20m.es/img2/recortes/2016/03/17/265741-323-242.jpg\" width=\"323\"/>\n",
      "<div class=\"photo-bar\">\n",
      "<span class=\"action-label large\" title=\"Ver vídeo\">\n",
      "<span class=\"icon-wrapper \"><span class=\"icon video\"></span></span>\n",
      "</span>\n",
      "<span class=\"activity-button-little\" style=\"opacity:0,25;\" title=\"62% de actividad social\"></span>\n",
      "</div></a>, <a class=\"photo collage\" href=\"http://www.20minutos.es/deportes/noticia/james-rodriguez-no-se-ira-real-madrid-enero-2920997/0/\" title='Jorge Mendes: \"James no se irá del Real Madrid en enero\"'><img alt=\"James\" height=\"118\" src=\"http://cdn.20m.es/img2/recortes/2016/11/26/381560-157-118.jpg?v=20161126152707\" width=\"157\"/>\n",
      "<div class=\"photo-bar\">\n",
      "</div></a>, <a class=\"photo collage\" href=\"http://www.gonzoo.com/humor/story/lo-mas-desternillante-de-twitter-en-2016-4809/\" target=\"_blank\" title=\"Lo más desternillante de Twitter en 2016\"><img alt=\"Risa en el trabajo\" height=\"118\" src=\"http://cdn.20m.es/img2/recortes/2015/07/01/231757-157-118.jpg\" width=\"157\"/>\n",
      "<div class=\"photo-bar\">\n",
      "<span class=\"action-label large\" title=\"Ver gonzoo\">\n",
      "<span class=\"icon-wrapper \"><span class=\"icon gonzoo\"></span></span>\n",
      "</span>\n",
      "</div></a>, <a class=\"photo\" href=\"http://clipset.20minutos.es/google-android-wear-nuevos-smartwatch/\" target=\"_blank\" title=\"Google intentará resucitar los wearables en 2017\"><img alt=\"Wearables \" height=\"180\" src=\"http://cdn.20m.es/img2/recortes/2016/12/26/396244-240-180.jpg?v=20161226113458\" width=\"240\"/>\n",
      "<span class=\"action-label-topleft spn-clipset\"></span>\n",
      "<div class=\"photo-bar\">\n",
      "</div></a>, <a class=\"photo\" href=\"http://www.20minutos.es/noticia/2921054/0/exconsejeros-vallejos-viera-piden-absolucion-caso-ere/\" title=\"Los exconsejeros Viera y Vallejo piden su absolución por el caso de los ERE\"><img alt=\"José Antonio Viera\" height=\"242\" src=\"http://cdn.20m.es/img2/recortes/2016/02/11/260354-323-242.jpg\" width=\"323\"/>\n",
      "<div class=\"photo-bar\">\n",
      "</div></a>, <a class=\"photo _304x226\" href=\"http://www.20minutos.es/noticia/2918879/0/elimina-tatuajes-maras-retoque-fotografia-steven-burton/\" title=\"Elimina con retoques los tatuajes de mareros rehabilitados y los enfrenta a su piel sin estigmas\"><img alt=\"Samuel González\" height=\"240\" src=\"http://cdn.20m.es/img2/recortes/2016/12/22/395200-323-242.jpg?v=20161222150933\" width=\"323\"/>\n",
      "<div class=\"photo-bar\">\n",
      "<span class=\"action-label large\" title=\"Ver fotogalería\">\n",
      "<span class=\"icon-wrapper \"><span class=\"icon foto\"></span></span>\n",
      "</span>\n",
      "<span class=\"activity-button-little\" style=\"opacity:0,525;\" title=\"73% de actividad social\"></span>\n",
      "</div></a>, <a class=\"photo collage\" href=\"http://www.20minutos.es/noticia/2920847/0/que-pasar-cabinas-telefonicas-espana/\" title=\"El futuro de las cabinas pende de un hilo\"><img alt=\"Cabina telefónica\" height=\"118\" src=\"http://cdn.20m.es/img2/recortes/2016/12/25/396165-157-118.jpg\" width=\"157\"/>\n",
      "<div class=\"photo-bar\">\n",
      "<span class=\"activity-button-little\" style=\"opacity:0,55;\" title=\"74% de actividad social\"></span>\n",
      "</div></a>, <a class=\"photo collage\" href=\"http://www.20minutos.es/noticia/2920436/0/grazalema-carretera-manta-sierra-pueblos-blancos/\" title=\"Grazalema: carretera (sierra y pueblos blancos) y manta\"><img alt=\"Grazalema\" height=\"118\" src=\"http://cdn.20m.es/img2/recortes/2012/05/31/63058-157-118.jpg\" width=\"157\"/>\n",
      "<div class=\"photo-bar\">\n",
      "</div></a>, <a class=\"photo\" href=\"http://www.esquire.es/actualizacion/9546/los-hippies-que-se-hicieron-ricos-con-el-veganismo\" target=\"_blank\" title=\"Los hippies que se hicieron ricos con el veganismo\"><img alt=\"Los creadores de la 'Veganesa'\" height=\"242\" src=\"http://cdn.20m.es/img2/recortes/2016/12/26/396189-323-242.jpg\" width=\"323\"/>\n",
      "<span class=\"action-label-topleft spn-esquire\"></span>\n",
      "<div class=\"photo-bar\">\n",
      "</div></a>, <a class=\"title\" href=\"http://www.20minutos.es/noticia/2920859/0/sucesos-fallecen-tres-hombres-incendio-cochera-poblacion-marmol-rus/\" title=\"Mueren tres hombres en un incendio en una cochera de la provincia de Jaén\">Mueren tres hombres en un incendio en una cochera de la provincia de Jaén</a>, <a class=\"photo\" href=\"http://www.20minutos.es/noticia/2920864/0/muertos-filipinas-tifon-nock-ten/\" title=\"Al menos tres muertos en Filipinas durante el paso del tifón 'Nock-Ten'\"><img alt=\"Tifón en Filipinas\" height=\"304\" src=\"http://cdn.20m.es/img2/recortes/2016/12/26/396186-406-304.jpg\" width=\"406\"/>\n",
      "<div class=\"photo-bar\">\n",
      "</div></a>, <a class=\"photo\" href=\"http://forbes.es/actualizacion/6838/las-15-habitaciones-de-hotel-mas-caras-del-mundo\" target=\"_blank\" title=\"Las quince habitaciones de hotel más caras del mundo\"><img alt=\"Resort Laucala Island\" height=\"180\" src=\"http://cdn.20m.es/img2/recortes/2016/12/26/396191-240-180.jpg\" width=\"240\"/>\n",
      "<span class=\"action-label-topleft spn-forbes\"></span>\n",
      "<div class=\"photo-bar\">\n",
      "</div></a>, <a class=\"photo nomarginbottom\" href=\"http://www.20minutos.es/deportes/noticia/pau-gasol-nba-spurs-chicago-bulls-2920858/0/\" title=\"Pau Gasol aporta seriedad defensiva y 12 puntos en la victoria de los Spurs ante sus ex de los Bulls\"><img alt=\"Pau Gasol, contra los Bulls\" height=\"242\" src=\"http://cdn.20m.es/img2/recortes/2016/12/26/396179-323-242.jpg\" width=\"323\"/>\n",
      "<div class=\"photo-bar\">\n",
      "</div></a>, <a class=\"photo\" href=\"http://www.20minutos.es/noticia/2920862/0/bronquiolitis-causa-mas-frecuente-hospitalizacion-bebes/\" title=\"La bronquiolitis es la causa más frecuente de hospitalización en menores de un año\"><img alt=\"Bronquilitis\" height=\"304\" src=\"http://cdn.20m.es/img2/recortes/2016/12/26/396185-406-304.jpg?v=20161226092537\" width=\"406\"/>\n",
      "<div class=\"photo-bar\">\n",
      "</div></a>, <a class=\"photo\" href=\"http://www.20minutos.es/noticia/2920694/0/extrana-paella-actor-estadounidense-rob-schneider/\" title=\"La extraña 'paella' del actor Rob Schneider indignó a sus fans españoles\"><img alt=\"Paella\" height=\"180\" src=\"http://cdn.20m.es/img2/recortes/2016/12/25/396062-240-180.jpg\" width=\"240\"/>\n",
      "<div class=\"photo-bar\">\n",
      "<span class=\"activity-button-little\" style=\"opacity:0,85;\" title=\"86% de actividad social\"></span>\n",
      "</div></a>, <a class=\"photo nomarginbottom\" href=\"http://www.20minutos.es/noticia/2920857/0/memoria-historica-queja-defensor-pueblo-discurso-navidad-rey/\" title=\"Memoria Histórica pone una queja al Defensor del Pueblo por el discurso de Navidad del rey\"><img alt=\"El rey pronuncia el tradicional mensaje de Navidad\" height=\"242\" src=\"http://cdn.20m.es/img2/recortes/2016/12/26/396178-323-242.jpg\" width=\"323\"/>\n",
      "<div class=\"photo-bar\">\n",
      "<span class=\"activity-button-little\" style=\"opacity:0,425;\" title=\"69% de actividad social\"></span>\n",
      "</div></a>, <a class=\"photo collage\" href=\"http://www.20minutos.es/noticia/2920917/0/mensaje-navidad-rey-felipe-vi-tve-audiencias/\" title=\"El mensaje del Rey fue el menos visto desde que se controlan las audiencias\"><img alt=\"Felicitación navideña de los reyes\" height=\"118\" src=\"http://cdn.20m.es/img2/recortes/2016/12/12/389235-157-118.jpg?v=20161212183053\" width=\"157\"/>\n",
      "<div class=\"photo-bar\">\n",
      "</div></a>, <a class=\"photo collage\" href=\"http://blogs.20minutos.es/comunicacion-no-verbal-lo-que-no-nos-cuentan/2016/12/26/el-simbolismo-en-el-mensaje-de-navidad-del-rey-felipe-vi/\" title=\"El simbolismo en el mensaje de Navidad del rey Felipe VI\"><img alt=\"Felipe VI\" height=\"118\" src=\"http://cdn.20m.es/img2/recortes/2016/12/24/396013-157-118.jpg\" width=\"157\"/>\n",
      "<div class=\"photo-bar\">\n",
      "<span class=\"action-label large\" title=\"Ver blog\">\n",
      "<span class=\"icon-wrapper \"><span class=\"icon blog\"></span></span>\n",
      "</span>\n",
      "</div></a>, <a class=\"photo\" href=\"http://www.20minutos.es/noticia/2920839/0/banda-secuestros-capturo-cooperante-espanol-afganistan/\" title=\"Una banda de secuestros capturó al cooperante español en Afganistán\"><img alt=\"Operación antitalibán en Kunduz\" height=\"180\" src=\"http://cdn.20m.es/img2/recortes/2016/01/04/254910-240-180.jpg\" width=\"240\"/>\n",
      "<div class=\"photo-bar\">\n",
      "</div></a>, <a class=\"photo\" href=\"http://www.20minutos.es/noticia/2920979/0/rusia-halla-fosas-comunes-alepo/\" title=\"Rusia denuncia el hallazgo de fosas comunes en Alepo con decenas de cuerpos mutilados\"><img alt=\"Bombardeos en Alepo\" height=\"304\" src=\"http://cdn.20m.es/img2/recortes/2016/12/14/390793-406-304.jpg\" width=\"406\"/>\n",
      "<div class=\"photo-bar\">\n",
      "</div></a>, <a class=\"photo\" href=\"http://www.20minutos.es/deportes/noticia/francia-prepara-ley-atajar-corrupcion-futbol-2920756/0/\" title=\"Francia prepara una ley para atajar la corrupción en el fútbol\"><img alt=\"Corrupción\" height=\"180\" src=\"http://cdn.20m.es/img2/recortes/2016/12/25/396112-240-180.jpg\" width=\"240\"/>\n",
      "<div class=\"photo-bar\">\n",
      "</div></a>, <a class=\"photo nomarginbottom\" href=\"http://culturainquieta.com/es/lifestyle/item/11133-atlas-de-la-belleza-una-mirada-a-las-mujeres-de-corea-del-norte.html\" target=\"_blank\" title=\"Una mirada a las mujeres de Corea del Norte\"><img alt=\"La belleza de las mujeres de Corea del Norte\" height=\"242\" src=\"http://cdn.20m.es/img2/recortes/2016/12/26/396279-323-242.jpg\" width=\"323\"/>\n",
      "<span class=\"action-label-topleft topleft-culturainquieta\"></span>\n",
      "<div class=\"photo-bar\">\n",
      "</div></a>, <a class=\"photo collage\" href=\"http://tapasmagazine.es/seleccion-tapas-los-mejores-turrones-gourmet/\" target=\"_blank\" title=\"Los mejores turrones gourmet\"><img alt=\"Turrón de chocolate\" height=\"118\" src=\"http://cdn.20m.es/img2/recortes/2016/12/26/396194-157-118.jpg\" width=\"157\"/>\n",
      "<span class=\"action-label-topleft spn-tapas\"></span>\n",
      "<div class=\"photo-bar\">\n",
      "</div></a>, <a class=\"photo collage\" href=\"http://lofficielhommes.es/cultura/exito-miguel-angel-silvestre-despierta-interes-los-narcos/\" target=\"_blank\" title=\"Miguel Ángel Silvestre despierta el interés de los narcos de Netflix\"><img alt=\"Miguel Ángel Silvestre\" height=\"118\" src=\"http://cdn.20m.es/img2/recortes/2016/12/26/396193-157-118.jpg\" width=\"157\"/>\n",
      "<span class=\"action-label-topleft spn-lofficiel-hommes\"></span>\n",
      "<div class=\"photo-bar\">\n",
      "</div></a>, <a class=\"photo\" href=\"http://www.20minutos.es/noticia/2920820/0/israel-convoca-embajadores-consejo-seguridad-resolucion-onu/\" title=\"Israel convoca a embajadores del Consejo de Seguridad por la resolución de la ONU\"><img alt=\"Benjamin Netanyahu\" height=\"304\" src=\"http://cdn.20m.es/img2/recortes/2015/10/26/245694-406-304.jpg?v=20160609092425\" width=\"406\"/>\n",
      "<div class=\"photo-bar\">\n",
      "</div></a>, <a class=\"photo hasBorder\" href=\"http://www.20minutos.es/noticia/2920775/0/twitter-mofa-carme-chacon-errejon-zapatero-jefe-estado/\" title=\"Twitter se mofa de Chacón por decirle a Errejón que Zapatero fue jefe de Estado\"><img alt=\"Carme Chacón\" height=\"180\" src=\"http://cdn.20m.es/img2/recortes/2016/12/25/396118-240-180.jpg\" width=\"240\"/>\n",
      "<div class=\"photo-bar\">\n",
      "<span class=\"activity-button-little\" style=\"opacity:1;\" title=\"92% de actividad social\"></span>\n",
      "</div></a>, <a class=\"photo\" href=\"http://www.20minutos.es/noticia/2920841/0/inspirador-mensaje-felicitacion-navidena-rowling-conquista-twitter/\" title=\"El inspirador mensaje de Navidad de J. K. Rowling que conquista Twitter\"><img alt=\"J. K. Rowling\" height=\"180\" src=\"http://cdn.20m.es/img2/recortes/2016/12/25/396162-240-180.jpg?v=20161225191846\" width=\"240\"/>\n",
      "<div class=\"photo-bar\">\n",
      "<span class=\"activity-button-little\" style=\"opacity:0,425;\" title=\"69% de actividad social\"></span>\n",
      "</div></a>, <a class=\"photo nomarginbottom\" href=\"http://www.20minutos.es/noticia/2920806/0/peliculas-espanolas-estrenadas-espectadores/\" title=\"Veinte películas españolas de 2016 no han llegado a los 100 espectadores\"><img alt=\"Sala de cine\" height=\"242\" src=\"http://cdn.20m.es/img2/recortes/2016/10/14/357540-323-242.jpg?v=20161014092718\" width=\"323\"/>\n",
      "<div class=\"photo-bar\">\n",
      "<span class=\"activity-button-little\" style=\"opacity:0,5;\" title=\"72% de actividad social\"></span>\n",
      "</div></a>, <a class=\"photo collage\" href=\"http://blogs.20minutos.es/efemerides/2016/12/25/un-26-de-diciembre-nacio-mao-zedong-un-tsunami-arraso-las-costas-del-oceano-indico-y-winston-churchill-fue-nombrado-primer-ministro/\" title=\"Tal día como hoy un tsunami arrasó las costas del Océano Índico\"><img alt=\"Noveno aniversario del tsunami en Indonesia\" height=\"118\" src=\"http://cdn.20m.es/img2/recortes/2013/12/23/152308-157-118.jpg\" width=\"157\"/>\n",
      "<div class=\"photo-bar\">\n",
      "<span class=\"action-label large\" title=\"Ver blog\">\n",
      "<span class=\"icon-wrapper \"><span class=\"icon blog\"></span></span>\n",
      "</span>\n",
      "</div></a>, <a class=\"photo collage\" href=\"http://www.20minutos.es/noticia/2920754/0/fuerte-terremoto-sur-chile/\" title=\"Un fuerte terremoto de 7,6 de magnitud sacude el sur de Chile\"><img alt=\"Terremoto en Chile\" height=\"118\" src=\"http://cdn.20m.es/img2/recortes/2016/12/25/396131-157-118.jpg\" width=\"157\"/>\n",
      "<div class=\"photo-bar\">\n",
      "<span class=\"activity-button-little\" style=\"opacity:0,75;\" title=\"82% de actividad social\"></span>\n",
      "</div></a>, <a class=\"photo hasBorder\" href=\"http://www.20minutos.es/noticia/2920714/0/desaparicion-menor-15-anos-fuenlabrada-madrid/\" title=\"Alertan de la desaparición de un menor en Fuenlabrada, Madrid\"><img alt=\"Menor desaparecido en Fuenlabrada\" height=\"180\" src=\"http://cdn.20m.es/img2/recortes/2016/12/25/396093-240-180.jpg\" width=\"240\"/>\n",
      "<div class=\"photo-bar\">\n",
      "<span class=\"activity-button-little\" style=\"opacity:0,575;\" title=\"75% de actividad social\"></span>\n",
      "</div></a>, <a class=\"title\" href=\"http://www.20minutos.es/noticia/2920812/0/fallece-joven-escaladora-caerse-velez-benaudalla/\" style=\"font-size: 38px;\" title=\"Fallece una joven escaladora al caerse en Vélez de Benaudalla\">Fallece una joven escaladora al caerse en Vélez de Benaudalla</a>, <a class=\"photo\" href=\"http://www.vertele.com/noticias/el-sufrimiento-de-pedroche-en-hipnotizame-con-estos-vips-en-antena-3/\" target=\"_blank\" title=\"El sufrimiento de Pedroche en 'Hipnotízame', con estos VIPs en Antena 3\"><img alt=\"El sufrimiento de Pedroche en 'Hipnotízame', con estos VIPs en Antena 3\" src=\"http://www.vertele.com/files/2016/03/hipno.jpg\" width=\"157\"/></a>, <a class=\"photo\" href=\"http://www.20minutos.es/noticia/2920658/0/donald-trump-disolvera-fundacion-familiar-evitar-conflictos-interes/\" title='Trump anuncia que disolverá su polémica fundación para \"evitar conflictos de interés\"'><img alt=\"Donald Trump en Nueva York\" height=\"304\" src=\"http://cdn.20m.es/img2/recortes/2016/12/06/386779-406-304.jpg\" width=\"406\"/>\n",
      "<div class=\"photo-bar\">\n",
      "</div></a>, <a class=\"photo\" href=\"http://www.gonzoo.com/series-cine/story/victoria-y-otras-reinas-badass-de-las-series-de-television-4768/\" target=\"_blank\" title=\"'Victoria' y otras reinas 'badass' de las series de TV\"><img alt=\"Victoria y otras reinas 'badass' de las series de televisión\" height=\"180\" src=\"http://cdn.20m.es/img2/recortes/2016/12/16/391727-240-180.jpg\" width=\"240\"/>\n",
      "<div class=\"photo-bar\">\n",
      "<span class=\"action-label large\" title=\"Ver gonzoo\">\n",
      "<span class=\"icon-wrapper \"><span class=\"icon gonzoo\"></span></span>\n",
      "</span>\n",
      "</div></a>, <a class=\"photo\" href=\"http://www.20minutos.es/deportes/noticia/leo-messi-reencuentra-rosario-companeros-equipo-infantiles-2920651/0/\" title=\"Messi se reencuentra con sus compañeros de equipo de infantiles\"><img alt=\"Messi y amigos\" height=\"180\" src=\"http://cdn.20m.es/img2/recortes/2016/12/25/396042-240-180.jpg\" width=\"240\"/>\n",
      "<div class=\"photo-bar\">\n",
      "</div></a>, <a class=\"photo\" href=\"http://www.20minutos.es/videos/redes/coCGSU45-le-canta-rap-al-gato-para-relajarlo/\" title=\"Le canta rap al gato para relajarlo\"><img alt=\"Le canta rap al gato para relajarlo\" height=\"118\" src=\"http://cdn.20m.es/img2/recortes/2016/12/23/395818-157-118.jpg\" width=\"157\"/>\n",
      "<div class=\"photo-bar\">\n",
      "<span class=\"action-label large\" title=\"Ver vídeo\">\n",
      "<span class=\"icon-wrapper \"><span class=\"icon video\"></span></span>\n",
      "</span>\n",
      "</div></a>, <a class=\"photo hasBorder\" href=\"http://www.20minutos.es/noticia/2920556/0/mapa-paises-mas-detestan-navidad/\" title=\"El mapa de los países que más detestan la Navidad\"><img alt=\"Amor por la Navidad\" height=\"242\" src=\"http://cdn.20m.es/img2/recortes/2016/12/24/395979-323-242.jpg\" width=\"323\"/>\n",
      "<div class=\"photo-bar\">\n",
      "<span class=\"activity-button-little\" style=\"opacity:1;\" title=\"100% de actividad social\"></span>\n",
      "</div></a>, <a class=\"title\" href=\"http://www.20minutos.es/noticia/2920638/0/fallece-vigilante-seguridad-accidente-circuito-pruebas-nijar/\" style=\"font-size: 30px;\" title=\"Muere un vigilante de seguridad en un accidente en un circuito de pruebas en Níjar\">Muere un vigilante de seguridad en un accidente en un circuito de pruebas en Níjar</a>, <a class=\"photo nomarginbottom\" href=\"http://www.20minutos.es/noticia/2912723/0/albert-renger-patzsch-fotografo-nueva-objetividad-alemania/\" title=\"El objetivo e impasible Renger-Patzsch, fotógrafo industrial de la Nueva Objetividad alemana\"><img alt=\"Albert Renger-Patzsch, Gehöft in Essen-Frohnhausen und Zeche Rosenblumendelle, 1928\" height=\"242\" src=\"http://cdn.20m.es/img2/recortes/2016/12/15/391044-323-242.jpg\" width=\"323\"/>\n",
      "<div class=\"photo-bar\">\n",
      "<span class=\"action-label large\" title=\"Ver fotogalería\">\n",
      "<span class=\"icon-wrapper \"><span class=\"icon foto\"></span></span>\n",
      "</span>\n",
      "</div></a>, <a class=\"photo collage\" href=\"http://www.20minutos.es/noticia/2920582/0/fallece-gil-parrondo-director-artistico-ganador-oscar/\" title=\"Fallece a los 95 años el director artístico Gil Parrondo\"><img alt=\"Gil Parrondo\" height=\"118\" src=\"http://cdn.20m.es/img2/recortes/2016/12/24/396003-157-118.jpg?v=20161224181809\" width=\"157\"/>\n",
      "<div class=\"photo-bar\">\n",
      "</div></a>, <a class=\"photo collage\" href=\"http://www.20minutos.es/noticia/2920585/0/ricky-martin-agradece-muestras-carino-enfermedad-padre/\" title=\"Ricky Martin agradece las muestras de cariño por la enfermedad de su padre\"><img alt=\"Ricky Martin\" height=\"118\" src=\"http://cdn.20m.es/img2/recortes/2016/12/24/396008-157-118.jpg\" width=\"157\"/>\n",
      "<div class=\"photo-bar\">\n",
      "<span class=\"activity-button-little\" style=\"opacity:0,325;\" title=\"65% de actividad social\"></span>\n",
      "</div></a>, <a class=\"photo\" href=\"http://www.20minutos.es/noticia/2920505/0/empresario-denunciado-teresa-rodriguez-agresion-machista-deja-cargo-camara-comercio-sevilla/\" title=\"La Cámara de Comercio fuerza la dimisión del empresario denunciado por Teresa Rodríguez por una agresión machista\"><img alt=\"Teresa Rodríguez y Manuel Muñoz\" height=\"304\" src=\"http://cdn.20m.es/img2/recortes/2016/12/24/395949-406-304.jpg?v=20161224133941\" width=\"406\"/>\n",
      "<div class=\"photo-bar\">\n",
      "<span class=\"action-label large\" title=\"Ver noticia con vídeo\">\n",
      "<span class=\"icon-wrapper \"><span class=\"icon noticia-video\"></span></span>\n",
      "</span>\n",
      "<span class=\"activity-button-little\" style=\"opacity:1;\" title=\"97% de actividad social\"></span>\n",
      "</div></a>, <a class=\"photo\" href=\"http://blogs.20minutos.es/que-fue-de-todos-los-demas/2016/12/24/macaulay-culkin-solo-en-casa-home-alone/\" title=\"¿Qué fue de Macaulay Culkin, el niño de 'Solo en casa'?\"><img alt=\"Macaulay Culkin\" height=\"180\" src=\"http://cdn.20m.es/img2/recortes/2016/12/24/396009-240-180.jpg\" width=\"240\"/>\n",
      "<div class=\"photo-bar\">\n",
      "<span class=\"action-label large\" title=\"Ver blog\">\n",
      "<span class=\"icon-wrapper \"><span class=\"icon blog\"></span></span>\n",
      "</span>\n",
      "</div></a>, <a class=\"photo\" href=\"http://blogs.20minutos.es/dando-la-nota/2016/12/24/puton-navideno-el-villancico-mas-polemico/\" target=\"_blank\" title=\"'Putón Navideño': el villancico más polémico\"><img alt=\"Putón Navideño\" height=\"118\" src=\"http://cdn.20m.es/img2/recortes/2016/12/24/395927-157-118.jpg\" width=\"157\"/>\n",
      "<div class=\"photo-bar\">\n",
      "<span class=\"action-label large\" title=\"Ver blog\">\n",
      "<span class=\"icon-wrapper \"><span class=\"icon blog\"></span></span>\n",
      "</span>\n",
      "</div></a>, <a class=\"photo\" href=\"http://listas.20minutos.es/lista/mejor-libro-de-harry-potter-417282/\" title=\"Vota por tu libro preferido de la saga de Harry Potter\"><img alt=\"Hedwig, saga Harry Potter (2001 - 2011)\" height=\"118\" src=\"http://cdn.20m.es/img2/recortes/2016/11/14/374482-157-118.jpg\" width=\"157\"/>\n",
      "<div class=\"photo-bar\">\n",
      "<span class=\"action-label large\" title=\"Ver listas\">\n",
      "<span class=\"icon-wrapper \"><span class=\"icon listas\"></span></span>\n",
      "</span>\n",
      "</div></a>, <a class=\"photo\" href=\"http://www.gonzoo.com/redes-sociales/story/esta-app-pone-fin-a-las-discusiones-sobre-politica-en-navidad-4810/\" target=\"_blank\" title=\"Esta app zanja las discusiones sobre política en Navidad\"><img alt=\"Noche de paz, la app que quiere acabar con las discusiones políticas en Navidad\" height=\"242\" src=\"http://cdn.20m.es/img2/recortes/2016/12/23/395731-323-242.jpg\" width=\"323\"/>\n",
      "<div class=\"photo-bar\">\n",
      "<span class=\"action-label large\" title=\"Ver gonzoo\">\n",
      "<span class=\"icon-wrapper \"><span class=\"icon gonzoo\"></span></span>\n",
      "</span>\n",
      "</div></a>, <a class=\"photo\" href=\"http://www.20minutos.es/noticia/2920535/0/detenidos-tunez-sospechosos-familiar-terrorista-ataque-berlin/\" title=\"Tres sospechosos detenidos en Túnez, entre ellos un familiar del terrorista de Berlín\"><img alt=\"Anis Amri en un vídeo de Estado Islámico\" height=\"304\" src=\"http://cdn.20m.es/img2/recortes/2016/12/23/395712-406-304.jpg?v=20161223163434\" width=\"406\"/>\n",
      "<div class=\"photo-bar\">\n",
      "</div></a>, <a class=\"photo\" href=\"http://www.20minutos.es/videos/nacional/yDEHMZ12-rajoy-asegura-la-ayuda-espanola-frente-al-terrorismo-en-cualquier-lugar-del-mundo/\" title=\"Rajoy asegura la ayuda española frente al terrorismo en todo el mundo\"><img alt=\"Mariano Rajoy\" height=\"180\" src=\"http://cdn.20m.es/img2/recortes/2016/12/24/395957-240-180.jpg?v=20161224135955\" width=\"240\"/>\n",
      "<div class=\"photo-bar\">\n",
      "<span class=\"action-label large\" title=\"Ver vídeo\">\n",
      "<span class=\"icon-wrapper \"><span class=\"icon video\"></span></span>\n",
      "</span>\n",
      "</div></a>, <a class=\"photo\" href=\"https://mejorconsalud.com/4-beneficios-psicologicos-caminar/\" target=\"_blank\" title=\"Cuatro beneficios psicológicos de caminar\"><img alt=\"Caminar\" height=\"118\" src=\"http://cdn.20m.es/img2/recortes/2015/09/08/239418-157-118.jpg\" width=\"157\"/>\n",
      "<span class=\"action-label-topleft topleft-mejor-salud\"></span>\n",
      "<div class=\"photo-bar\">\n",
      "</div></a>, <a class=\"photo\" href=\"http://www.coches.net/nuevo-infiniti-qx30?xtor=AD-5001-[noticia]-[home]-[cintillo_central]-[20Minutos]\" target=\"_blank\" title=\"Infiniti QX30, identidad SUV: compacto elevado\"><img alt=\"Infiniti QX30, identidad SUV: compacto elevado \" height=\"118\" src=\"http://cdn.20m.es/img2/recortes/2016/10/20/361195-157-118.jpg\" width=\"157\"/>\n",
      "<div class=\"photo-bar\">\n",
      "</div></a>]\n"
     ]
    }
   ],
   "source": [
    "links = []\n",
    "# We look for the news.\n",
    "all_news_lines = soup('div', 'sep-top')\n",
    "for line in all_news_lines:\n",
    "    # For each line, we look for 'a' elements\n",
    "    link = line.find('a')\n",
    "    # We store the link in the array\n",
    "    links.append(link)\n",
    "print(links)"
   ]
  },
  {
   "cell_type": "code",
   "execution_count": 34,
   "metadata": {
    "collapsed": false
   },
   "outputs": [],
   "source": [
    "csv_news = []\n",
    "lenghts=[]\n",
    "# For our csv, we store three columns: the text, the length and the date\n",
    "csv_headers = ['text', 'date', 'length']\n",
    "csv_news.append(csv_headers)\n",
    "\n",
    "for link in links:\n",
    "    # This is one option to get the date\n",
    "    date_and_time = datetime.datetime.now()\n",
    "    date = date_and_time.strftime('%d/%m/%Y')\n",
    "    \n",
    "    # We get the 'title' from the link\n",
    "    new = link.get('title')\n",
    "    #new = new.encode('utf-8')  # We need to encode for special chars\n",
    "    \n",
    "    # We get the text length\n",
    "    number_of_letters = len(new)\n",
    "    csv_news.append([new, date, number_of_letters])\n",
    "    # Save lengths for show the histogram\n",
    "    lenghts.append(number_of_letters)"
   ]
  },
  {
   "cell_type": "code",
   "execution_count": 35,
   "metadata": {
    "collapsed": false
   },
   "outputs": [
    {
     "name": "stdout",
     "output_type": "stream",
     "text": [
      "News saved!!\n"
     ]
    }
   ],
   "source": [
    "# We write our csv\n",
    "# We open a file to allow the write operation\n",
    "import csv\n",
    "ofile = open('20min.csv', 'w')\n",
    "# We define our writer to write the rows\n",
    "writer = csv.writer(ofile, delimiter=',')\n",
    "\n",
    "for row in csv_news:\n",
    "    # We use the try/catch to control the exceptions\n",
    "    try:\n",
    "        # We write the row in our csv file\n",
    "        writer.writerow(row)\n",
    "    except:\n",
    "        pass\n",
    "\n",
    "print(\"News saved!!\")\n",
    "ofile.close()\n",
    "\n",
    "# End"
   ]
  },
  {
   "cell_type": "code",
   "execution_count": 36,
   "metadata": {
    "collapsed": false
   },
   "outputs": [
    {
     "name": "stdout",
     "output_type": "stream",
     "text": [
      "[28, 35, 40, 41, 41, 43, 44, 46, 48, 49, 49, 50, 52, 52, 53, 54, 54, 55, 55, 56, 56, 56, 56, 56, 57, 57, 57, 61, 61, 61, 62, 63, 63, 63, 64, 64, 64, 67, 68, 69, 69, 71, 71, 71, 72, 72, 72, 73, 74, 75, 75, 78, 79, 81, 82, 82, 84, 85, 85, 85, 89, 90, 90, 92, 96, 98, 100, 113]\n"
     ]
    },
    {
     "data": {
      "image/png": "[encoded data removed]",
      "text/plain": [
       "<matplotlib.figure.Figure at 0x144d5a2eb8>"
      ]
     },
     "metadata": {},
     "output_type": "display_data"
    }
   ],
   "source": [
    "# plot histogram of lenghts\n",
    "from matplotlib.pylab import hist, show\n",
    "lenghts.sort()\n",
    "print(lenghts)\n",
    "hist(lenghts)\n",
    "show()"
   ]
  },
  {
   "cell_type": "code",
   "execution_count": null,
   "metadata": {
    "collapsed": true
   },
   "outputs": [],
   "source": []
  }
 ],
 "metadata": {
  "anaconda-cloud": {},
  "kernelspec": {
   "display_name": "Python [conda root]",
   "language": "python",
   "name": "conda-root-py"
  },
  "language_info": {
   "codemirror_mode": {
    "name": "ipython",
    "version": 3
   },
   "file_extension": ".py",
   "mimetype": "text/x-python",
   "name": "python",
   "nbconvert_exporter": "python",
   "pygments_lexer": "ipython3",
   "version": "3.5.2"
  }
 },
 "nbformat": 4,
 "nbformat_minor": 0
}
