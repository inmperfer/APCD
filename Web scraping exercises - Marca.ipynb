{
 "cells": [
  {
   "cell_type": "markdown",
   "metadata": {},
   "source": [
    "# Ejercicio 2 - Web scraping\n",
    "Web scraping en la web de Marca. Recordad instalar las librerías necesarias.\n",
    "\n",
    "La plantilla se corresponde con los ejemplos vistos en clase esta semana y que están disponible en las transparencias. Además, los comentarios en el código os dan pistas sobre lo que se hace en cada momento.\n",
    "\n",
    "Este código no es universal. Podéis realizar cualquier mejora o cambio de código para obtener otro resultado. En ese caso debéis comentar cuál sería vuestro objetivo.\n",
    "\n",
    "Por favor, tened siempre en cuenta las condiciones legales de la página web que queráis usar.\n",
    "\n",
    "Podéis consultarme cualquier duda o enviarme vuestras soluciones a mi correo electrónico gmunoz4@us.es."
   ]
  },
  {
   "cell_type": "markdown",
   "metadata": {},
   "source": [
    "Rellenar los huecos para:\n",
    "\n",
    "1) Obtener la información deseada de la página\n",
    "\n",
    "2) Crear un archivo JSON a partir de los datos obtenidos"
   ]
  },
  {
   "cell_type": "code",
   "execution_count": 20,
   "metadata": {
    "collapsed": false
   },
   "outputs": [],
   "source": [
    "# -*- coding: utf-8 -*-\n",
    "# Look at the terms and the robots.txt file\n",
    "# http://estaticos.marca.com/robots.txt\n",
    "from bs4 import BeautifulSoup\n",
    "import requests\n",
    "import json\n",
    "import re"
   ]
  },
  {
   "cell_type": "code",
   "execution_count": 5,
   "metadata": {
    "collapsed": false
   },
   "outputs": [
    {
     "name": "stderr",
     "output_type": "stream",
     "text": [
      "C:\\Anaconda3\\lib\\site-packages\\bs4\\__init__.py:181: UserWarning: No parser was explicitly specified, so I'm using the best available HTML parser for this system (\"lxml\"). This usually isn't a problem, but if you run this code on another system, or in a different virtual environment, it may use a different parser and behave differently.\n",
      "\n",
      "The code that caused this warning is on line 184 of the file C:\\Anaconda3\\lib\\runpy.py. To get rid of this warning, change code that looks like this:\n",
      "\n",
      " BeautifulSoup([your markup])\n",
      "\n",
      "to this:\n",
      "\n",
      " BeautifulSoup([your markup], \"lxml\")\n",
      "\n",
      "  markup_type=markup_type))\n"
     ]
    }
   ],
   "source": [
    "url = \"http://www.marca.com/futbol/primera/calendario.html\"\n",
    "# The first parameter is the 'text' from the url requested\n",
    "soup = BeautifulSoup(requests.get(url).text)"
   ]
  },
  {
   "cell_type": "code",
   "execution_count": 60,
   "metadata": {
    "collapsed": false
   },
   "outputs": [
    {
     "name": "stdout",
     "output_type": "stream",
     "text": [
      "[{'nombre_jornada': 'Jornada 1', 'resultado': '6-2', 'fecha_jornada': 'Sáb. 20 y Dom. 21 Agosto', 'local': 'Barcelona', 'visitante': 'Betis'}, {'nombre_jornada': 'Jornada 2', 'resultado': '0-0', 'fecha_jornada': 'Sáb. 27 y Dom. 28 Agosto', 'local': 'Betis', 'visitante': 'Deportivo'}, {'nombre_jornada': 'Jornada 3', 'resultado': '2-3', 'fecha_jornada': 'Sáb. 10 y Dom. 11 Septiembre', 'local': 'Valencia', 'visitante': 'Betis'}, {'nombre_jornada': 'Jornada 4', 'resultado': '2-2', 'fecha_jornada': 'Sáb. 17 y Dom. 18 Septiembre', 'local': 'Betis', 'visitante': 'Granada'}, {'nombre_jornada': 'Jornada 5', 'resultado': '1-0', 'fecha_jornada': 'Mier. 21 y Mier. 21 Septiembre', 'local': 'Sevilla', 'visitante': 'Betis'}, {'nombre_jornada': 'Jornada 6', 'resultado': '1-0', 'fecha_jornada': 'Sáb. 24 y Dom. 25 Septiembre', 'local': 'Betis', 'visitante': 'Málaga'}, {'nombre_jornada': 'Jornada 7', 'resultado': '1-0', 'fecha_jornada': 'Sáb. 1 y Dom. 2 Octubre', 'local': 'R. Sociedad', 'visitante': 'Betis'}, {'nombre_jornada': 'Jornada 8', 'resultado': '1-6', 'fecha_jornada': 'Sáb. 15 y Dom. 16 Octubre', 'local': 'Betis', 'visitante': 'R. Madrid'}, {'nombre_jornada': 'Jornada 9', 'resultado': '1-2', 'fecha_jornada': 'Sáb. 22 y Dom. 23 Octubre', 'local': 'Osasuna', 'visitante': 'Betis'}, {'nombre_jornada': 'Jornada 10', 'resultado': '0-1', 'fecha_jornada': 'Sáb. 29 y Dom. 30 Octubre', 'local': 'Betis', 'visitante': 'Espanyol'}, {'nombre_jornada': 'Jornada 11', 'resultado': '2-0', 'fecha_jornada': 'Sáb. 5 y Dom. 6 Noviembre', 'local': 'Villarreal', 'visitante': 'Betis'}, {'nombre_jornada': 'Jornada 12', 'resultado': '2-0', 'fecha_jornada': 'Sáb. 19 y Dom. 20 Noviembre', 'local': 'Betis', 'visitante': 'Las Palmas'}, {'nombre_jornada': 'Jornada 13', 'resultado': '3-1', 'fecha_jornada': 'Sáb. 26 y Dom. 27 Noviembre', 'local': 'Eibar', 'visitante': 'Betis'}, {'nombre_jornada': 'Jornada 14', 'resultado': '3-3', 'fecha_jornada': 'Sáb. 3 y Dom. 4 Diciembre', 'local': 'Betis', 'visitante': 'Celta'}, {'nombre_jornada': 'Jornada 15', 'resultado': '1-0', 'fecha_jornada': 'Sáb. 10 y Dom. 11 Diciembre', 'local': 'Betis', 'visitante': 'Athletic'}, {'nombre_jornada': 'Jornada 16', 'resultado': '1-0', 'fecha_jornada': 'Sáb. 17 y Dom. 18 Diciembre', 'local': 'Alavés', 'visitante': 'Betis'}, {'nombre_jornada': 'Jornada 17', 'resultado': 'Dom-  16:15\\n', 'fecha_jornada': 'Sáb. 7 y Dom. 8 Enero', 'local': 'Betis', 'visitante': 'Leganés'}, {'nombre_jornada': 'Jornada 18', 'resultado': 'Sab-  18:30\\n', 'fecha_jornada': 'Sáb. 14 y Dom. 15 Enero', 'local': 'Atlético', 'visitante': 'Betis'}, {'nombre_jornada': 'Jornada 19', 'resultado': 'Dom-  18:30\\n', 'fecha_jornada': 'Sáb. 21 y Dom. 22 Enero', 'local': 'Betis', 'visitante': 'Sporting'}, {'nombre_jornada': 'Jornada 20', 'resultado': 'Sin confirmar', 'fecha_jornada': 'Sáb. 28 y Dom. 29 Enero', 'local': 'Betis', 'visitante': 'Barcelona'}, {'nombre_jornada': 'Jornada 21', 'resultado': 'Sin confirmar', 'fecha_jornada': 'Sáb. 4 y Dom. 5 Febrero', 'local': 'Deportivo', 'visitante': 'Betis'}, {'nombre_jornada': 'Jornada 22', 'resultado': 'Sin confirmar', 'fecha_jornada': 'Sáb. 11 y Dom. 12 Febrero', 'local': 'Betis', 'visitante': 'Valencia'}, {'nombre_jornada': 'Jornada 23', 'resultado': 'Sin confirmar', 'fecha_jornada': 'Sáb. 18 y Dom. 19 Febrero', 'local': 'Granada', 'visitante': 'Betis'}, {'nombre_jornada': 'Jornada 24', 'resultado': 'Sin confirmar', 'fecha_jornada': 'Vie. 24 y Dom. 26 Febrero', 'local': 'Betis', 'visitante': 'Sevilla'}, {'nombre_jornada': 'Jornada 25', 'resultado': 'Sin confirmar', 'fecha_jornada': 'Mar. 28 y Mier. 1 Marzo', 'local': 'Málaga', 'visitante': 'Betis'}, {'nombre_jornada': 'Jornada 26', 'resultado': 'Sin confirmar', 'fecha_jornada': 'Sáb. 4 y Dom. 5 Marzo', 'local': 'Betis', 'visitante': 'R. Sociedad'}, {'nombre_jornada': 'Jornada 27', 'resultado': 'Sin confirmar', 'fecha_jornada': 'Sáb. 11 y Dom. 12 Marzo', 'local': 'R. Madrid', 'visitante': 'Betis'}, {'nombre_jornada': 'Jornada 28', 'resultado': 'Sin confirmar', 'fecha_jornada': 'Sáb. 18 y Dom. 19 Marzo', 'local': 'Betis', 'visitante': 'Osasuna'}, {'nombre_jornada': 'Jornada 29', 'resultado': 'Sin confirmar', 'fecha_jornada': 'Sáb. 1 y Dom. 2 Abril', 'local': 'Espanyol', 'visitante': 'Betis'}, {'nombre_jornada': 'Jornada 30', 'resultado': 'Sin confirmar', 'fecha_jornada': 'Mier. 5 y Mier. 5 Abril', 'local': 'Betis', 'visitante': 'Villarreal'}, {'nombre_jornada': 'Jornada 31', 'resultado': 'Sin confirmar', 'fecha_jornada': 'Sáb. 8 y Dom. 9 Abril', 'local': 'Las Palmas', 'visitante': 'Betis'}, {'nombre_jornada': 'Jornada 32', 'resultado': 'Sin confirmar', 'fecha_jornada': 'Sáb. 15 y Dom. 16 Abril', 'local': 'Betis', 'visitante': 'Eibar'}, {'nombre_jornada': 'Jornada 33', 'resultado': 'Sin confirmar', 'fecha_jornada': 'Sáb. 22 y Dom. 23 Abril', 'local': 'Celta', 'visitante': 'Betis'}, {'nombre_jornada': 'Jornada 34', 'resultado': 'Sin confirmar', 'fecha_jornada': 'Mier. 26 y Mier. 26 Abril', 'local': 'Athletic', 'visitante': 'Betis'}, {'nombre_jornada': 'Jornada 35', 'resultado': 'Sin confirmar', 'fecha_jornada': 'Sáb. 29 y Dom. 30 Abril', 'local': 'Betis', 'visitante': 'Alavés'}, {'nombre_jornada': 'Jornada 36', 'resultado': 'Sin confirmar', 'fecha_jornada': 'Sáb. 6 y Dom. 7 Mayo', 'local': 'Leganés', 'visitante': 'Betis'}, {'nombre_jornada': 'Jornada 37', 'resultado': 'Sin confirmar', 'fecha_jornada': 'Sáb. 13 y Dom. 14 Mayo', 'local': 'Betis', 'visitante': 'Atlético'}, {'nombre_jornada': 'Jornada 38', 'resultado': 'Sin confirmar', 'fecha_jornada': 'Sáb. 20 y Dom. 21 Mayo', 'local': 'Sporting', 'visitante': 'Betis'}]\n"
     ]
    }
   ],
   "source": [
    "resultados = []\n",
    "jornadas = soup('li', 'contenedorCalendarioInt')\n",
    "\n",
    "# Once we have the 'jornadas', we need to iterate over them\n",
    "for jornada in jornadas:\n",
    "    # We need to extract the name and the date. We need to look at the page\n",
    "    # HTML code to check the tag name\n",
    "    nombre_jornada = jornada.find('h2').text\n",
    "    fecha_jornada = jornada.find('span').text.split('\\n')[2]\n",
    "\n",
    "    \n",
    "    # Matches data\n",
    "    # To set the parameters, we need to get the tag and the class associated\n",
    "    partidos_jornada = jornada.find('ul', 'partidos-jornada')\n",
    "\n",
    "    for partido_jornada in partidos_jornada:\n",
    "        local = \"\"\n",
    "        visitante = \"\"\n",
    "        try:\n",
    "            # Finally, let's use the class to find the desired data\n",
    "            local = partido_jornada.find('span', 'local').text\n",
    "            visitante = partido_jornada.find('span', 'visitante').text\n",
    "            resultado = partido_jornada.find('span', 'resultado').text\n",
    "        except:\n",
    "            pass\n",
    "\n",
    "        if 'Betis' in [local, visitante]:\n",
    "            # We want to store the information in a dictionary. The values\n",
    "            # will be 'local', 'visitante', 'resultado' and 'fecha_jornada'\n",
    "            # We use a dictionary to transform it to a JSON file\n",
    "            partido = {}\n",
    "            partido['local'] = local\n",
    "            partido['visitante'] = visitante\n",
    "            partido['resultado'] = resultado\n",
    "            partido['nombre_jornada'] = nombre_jornada\n",
    "            partido['fecha_jornada'] = fecha_jornada\n",
    "            resultados.append(partido)\n",
    "print(resultados)"
   ]
  },
  {
   "cell_type": "code",
   "execution_count": 67,
   "metadata": {
    "collapsed": false
   },
   "outputs": [],
   "source": [
    "# We open a file to write our dictionary in JSON format\n",
    "with open('json_matches.json', 'w', encoding='utf-8') as outfile:\n",
    "    json.dump(resultados, outfile, ensure_ascii=False)\n",
    "\n",
    "# End"
   ]
  }
 ],
 "metadata": {
  "kernelspec": {
   "display_name": "Python [conda root]",
   "language": "python",
   "name": "conda-root-py"
  },
  "language_info": {
   "codemirror_mode": {
    "name": "ipython",
    "version": 3
   },
   "file_extension": ".py",
   "mimetype": "text/x-python",
   "name": "python",
   "nbconvert_exporter": "python",
   "pygments_lexer": "ipython3",
   "version": "3.5.2"
  }
 },
 "nbformat": 4,
 "nbformat_minor": 0
}
